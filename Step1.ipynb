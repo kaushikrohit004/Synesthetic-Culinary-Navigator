{
 "cells": [
  {
   "cell_type": "code",
   "execution_count": 1,
   "metadata": {
    "executionInfo": {
     "elapsed": 9513,
     "status": "ok",
     "timestamp": 1649034359621,
     "user": {
      "displayName": "Neil Pillai",
      "userId": "06533696322730179220"
     },
     "user_tz": 240
    },
    "id": "12f1ceb6-cf3c-4fc3-ab77-298c2d2ae985"
   },
   "outputs": [],
   "source": [
    "import torch\n",
    "import torch.nn as nn\n",
    "import torch.optim as optim\n",
    "from torch.optim import lr_scheduler\n",
    "import torch.backends.cudnn as cudnn\n",
    "import torchvision\n",
    "from torchvision import datasets, models, transforms\n",
    "from torch.utils.data import DataLoader, IterableDataset\n",
    "\n",
    "import numpy as np\n",
    "import matplotlib.pyplot as plt\n",
    "import pandas as pd\n",
    "\n",
    "import time\n",
    "import os\n",
    "import copy\n",
    "import json\n",
    "import random\n",
    "\n",
    "from PIL import Image\n",
    "\n",
    "from transformers import BertTokenizer, BertModel\n",
    "import pickle\n",
    "\n",
    "from sklearn.decomposition import PCA\n",
    "from cca_zoo.models import CCA\n",
    "\n",
    "# from cca_zoo.deepmodels import architectures\n",
    "# from cca_zoo.deepmodels import DVCCA, DCCA\n",
    "# from cca_zoo.deepmodels.architectures import BaseEncoder, Encoder, Decoder\n",
    "# from cca_zoo.deepmodels.dcca import _DCCA_base\n",
    "\n",
    "from sklearn.preprocessing import normalize\n",
    "\n",
    "# making sure that the whole embedding tensor is printed in output\n",
    "torch.set_printoptions(threshold=10_000)"
   ]
  },
  {
   "cell_type": "markdown",
   "metadata": {
    "id": "4bf6eb3a-48b0-457a-af11-86238c12c079"
   },
   "source": [
    "# Loading necessary files"
   ]
  },
  {
   "cell_type": "code",
   "execution_count": 2,
   "metadata": {
    "executionInfo": {
     "elapsed": 116524,
     "status": "ok",
     "timestamp": 1649034476869,
     "user": {
      "displayName": "Neil Pillai",
      "userId": "06533696322730179220"
     },
     "user_tz": 240
    },
    "id": "64504e16-fae1-40de-9dc2-ed26ef94f551"
   },
   "outputs": [],
   "source": [
    "# validation image and full text data\n",
    "img_val = torch.load(\"img_val.pt\")\n",
    "text_val = torch.load(\"text_val.pt\")\n",
    "\n",
    "# train image and full text data\n",
    "img_train = torch.load(\"img_train.pt\")\n",
    "text_train = torch.load(\"text_train.pt\")\n",
    "\n",
    "# test image and full text data\n",
    "img_test = torch.load(\"img_test.pt\")\n",
    "text_test = torch.load(\"text_test.pt\")\n",
    "\n",
    "#individual text test data\n",
    "ingredients_test = torch.load(\"test_ingredients.pt\")\n",
    "instructions_test = torch.load(\"test_instructions.pt\")\n",
    "title_test = torch.load(\"test_title.pt\")\n",
    "\n",
    "#individual text train data\n",
    "ingredients_train = torch.load(\"train_ingredients.pt\")\n",
    "instructions_train = torch.load(\"train_instructions.pt\")\n",
    "title_train = torch.load(\"train_title.pt\")"
   ]
  },
  {
   "cell_type": "markdown",
   "metadata": {
    "id": "d139fea1"
   },
   "source": [
    "## Ranking function"
   ]
  },
  {
   "cell_type": "code",
   "execution_count": 3,
   "metadata": {
    "executionInfo": {
     "elapsed": 19,
     "status": "ok",
     "timestamp": 1649034476870,
     "user": {
      "displayName": "Neil Pillai",
      "userId": "06533696322730179220"
     },
     "user_tz": 240
    },
    "id": "12c7d566"
   },
   "outputs": [],
   "source": [
    "\"\"\"Retrieval ranking function for the learnt representations from the official code of im2recipe paper\"\"\"\n",
    "def ranker(im_vecs, instr_vecs, N = 1000, flag = \"image\"):\n",
    "    idxs = range(N)\n",
    "\n",
    "    glob_rank = []\n",
    "    glob_recall = {1:0.0,5:0.0,10:0.0}\n",
    "    for i in range(10):\n",
    "\n",
    "        ids = random.sample(range(0,len(im_vecs)), N)\n",
    "        \n",
    "        im_sub = im_vecs[ids,:]\n",
    "        instr_sub = instr_vecs[ids,:]\n",
    "\n",
    "        if flag == \"image\":\n",
    "            sims = np.dot(im_sub,instr_sub.T) # for im2recipe\n",
    "        else:\n",
    "            sims = np.dot(instr_sub,im_sub.T) # for recipe2im\n",
    "\n",
    "        med_rank = []\n",
    "        recall = {1:0.0,5:0.0,10:0.0}\n",
    "\n",
    "        for ii in idxs:\n",
    "\n",
    "            # name = ids_sub[ii]\n",
    "            # get a column of similarities\n",
    "            sim = sims[ii,:]\n",
    "\n",
    "            # sort indices in descending order\n",
    "            sorting = np.argsort(sim)[::-1].tolist()\n",
    "\n",
    "            # find where the index of the pair sample ended up in the sorting\n",
    "            pos = sorting.index(ii)\n",
    "\n",
    "            if (pos+1) == 1:\n",
    "                recall[1]+=1\n",
    "            if (pos+1) <=5:\n",
    "                recall[5]+=1\n",
    "            if (pos+1)<=10:\n",
    "                recall[10]+=1\n",
    "\n",
    "            # store the position\n",
    "            med_rank.append(pos+1)\n",
    "\n",
    "        for i in recall.keys():\n",
    "            recall[i]=recall[i]/N\n",
    "\n",
    "        med = np.median(med_rank)\n",
    "\n",
    "        for i in recall.keys():\n",
    "            glob_recall[i]+=recall[i]\n",
    "        glob_rank.append(med)\n",
    "\n",
    "    for i in glob_recall.keys():\n",
    "        glob_recall[i] = glob_recall[i]/10\n",
    "    \n",
    "    print (\"Mean median\", np.average(glob_rank))\n",
    "    print (\"Recall\", glob_recall)"
   ]
  },
  {
   "cell_type": "markdown",
   "metadata": {
    "id": "022f6705"
   },
   "source": [
    "# STEP 1: CCA on improved pipeline representations"
   ]
  },
  {
   "cell_type": "markdown",
   "metadata": {
    "id": "64b12673-5d63-45c2-9090-2179bc0b2fb0"
   },
   "source": [
    "## Recipe retrieval (im2recipe)"
   ]
  },
  {
   "cell_type": "markdown",
   "metadata": {
    "id": "38a4ee6f-1b30-4f88-ba4f-d0015d283cf7"
   },
   "source": [
    "### Dimensional Analysis with Val data"
   ]
  },
  {
   "cell_type": "code",
   "execution_count": 4,
   "metadata": {
    "id": "c99ef6fc-d7e5-4e16-b9af-05c8db164df5"
   },
   "outputs": [],
   "source": [
    "\"\"\"Function that outputs retrieval ranks for samples from validation data in order to determine optimal representation dimension size\"\"\"\n",
    "def determine_latent_dims(dims, size, flag = \"image\"):\n",
    "\n",
    "    print(\"Applying CCA\")\n",
    "    cca = CCA(latent_dims = dims, random_state = 0)\n",
    "    cca.fit((img_train, text_train))\n",
    "    print(\"CCA done\")\n",
    "    \n",
    "    print(\"Transforming\")\n",
    "    img_train_r, text_train_r = cca.transform((img_train, text_train))\n",
    "    img_val_r, text_val_r = cca.transform((img_val, text_val))\n",
    "\n",
    "    print(\"Results for latent dims:\", str(dims), \" and test sample:\", str(size), \" and im2recipe\")\n",
    "    ranker(img_val_r, text_val_r, size, flag)"
   ]
  },
  {
   "cell_type": "markdown",
   "metadata": {
    "id": "5f0e6af1-ebb9-4a04-bead-4bf7618cd04e"
   },
   "source": [
    "##### For 1k samples"
   ]
  },
  {
   "cell_type": "code",
   "execution_count": null,
   "metadata": {
    "id": "c08b225b-1432-4b87-be3b-8d93e3d49282",
    "outputId": "46293239-1b56-4480-9299-c6d599e1be1e"
   },
   "outputs": [
    {
     "name": "stdout",
     "output_type": "stream",
     "text": [
      "Applying CCA\n",
      "CCA done\n",
      "Transforming\n",
      "Results for latent dims: 2  and test sample: 1000  and im2recipe\n",
      "Mean median 208.7\n",
      "Recall {1: 0.0029000000000000002, 5: 0.015200000000000002, 10: 0.030700000000000005}\n",
      "Applying CCA\n",
      "CCA done\n",
      "Transforming\n",
      "Results for latent dims: 10  and test sample: 1000  and im2recipe\n",
      "Mean median 22.65\n",
      "Recall {1: 0.0509, 5: 0.20049999999999998, 10: 0.31489999999999996}\n",
      "Applying CCA\n",
      "CCA done\n",
      "Transforming\n",
      "Results for latent dims: 25  and test sample: 1000  and im2recipe\n",
      "Mean median 5.0\n",
      "Recall {1: 0.2132, 5: 0.524, 10: 0.6721000000000001}\n",
      "Applying CCA\n",
      "CCA done\n",
      "Transforming\n",
      "Results for latent dims: 50  and test sample: 1000  and im2recipe\n",
      "Mean median 2.5\n",
      "Recall {1: 0.3512, 5: 0.6982999999999999, 10: 0.8155999999999999}\n",
      "Applying CCA\n",
      "CCA done\n",
      "Transforming\n",
      "Results for latent dims: 100  and test sample: 1000  and im2recipe\n",
      "Mean median 2.0\n",
      "Recall {1: 0.41369999999999996, 5: 0.7453999999999998, 10: 0.8433999999999999}\n",
      "Applying CCA\n",
      "CCA done\n",
      "Transforming\n",
      "Results for latent dims: 200  and test sample: 1000  and im2recipe\n",
      "Mean median 1.9\n",
      "Recall {1: 0.4866, 5: 0.7834000000000001, 10: 0.8588000000000001}\n",
      "Applying CCA\n",
      "CCA done\n",
      "Transforming\n",
      "Results for latent dims: 500  and test sample: 1000  and im2recipe\n",
      "Mean median 1.0\n",
      "Recall {1: 0.5435000000000001, 5: 0.7948000000000001, 10: 0.8448}\n",
      "Applying CCA\n",
      "CCA done\n",
      "Transforming\n",
      "Results for latent dims: 1000  and test sample: 1000  and im2recipe\n",
      "Mean median 1.0\n",
      "Recall {1: 0.5494000000000001, 5: 0.7711, 10: 0.8154999999999999}\n"
     ]
    }
   ],
   "source": [
    "# For 1k samples\n",
    "for dim in [2, 10, 25, 50, 100, 200, 500, 1000]:\n",
    "    determine_latent_dims(dim, 1000)"
   ]
  },
  {
   "cell_type": "markdown",
   "metadata": {
    "id": "557c8295-86c4-4a71-a669-bb8bc7cc5425"
   },
   "source": [
    "##### For 10k samples"
   ]
  },
  {
   "cell_type": "code",
   "execution_count": 5,
   "metadata": {
    "id": "a97fd6d7-3c32-4e53-a668-63f50a60617f",
    "outputId": "a7d0eb35-3faf-43e3-f8ce-fa74ca93c177"
   },
   "outputs": [
    {
     "name": "stdout",
     "output_type": "stream",
     "text": [
      "Applying CCA\n",
      "CCA done\n",
      "Transforming\n",
      "Results for latent dims: 2  and test sample: 10000  and im2recipe\n",
      "Mean median 2027.75\n",
      "Recall {1: 0.00039, 5: 0.00163, 10: 0.0031100000000000004}\n",
      "Applying CCA\n",
      "CCA done\n",
      "Transforming\n",
      "Results for latent dims: 10  and test sample: 10000  and im2recipe\n",
      "Mean median 218.55\n",
      "Recall {1: 0.00664, 5: 0.03003, 10: 0.05709000000000001}\n",
      "Applying CCA\n",
      "CCA done\n",
      "Transforming\n",
      "Results for latent dims: 25  and test sample: 10000  and im2recipe\n",
      "Mean median 39.9\n",
      "Recall {1: 0.04641000000000001, 5: 0.15919, 10: 0.24772}\n",
      "Applying CCA\n",
      "CCA done\n",
      "Transforming\n",
      "Results for latent dims: 50  and test sample: 10000  and im2recipe\n",
      "Mean median 17.1\n",
      "Recall {1: 0.10279, 5: 0.2861599999999999, 10: 0.40345000000000003}\n",
      "Applying CCA\n",
      "CCA done\n",
      "Transforming\n",
      "Results for latent dims: 100  and test sample: 10000  and im2recipe\n",
      "Mean median 11.8\n",
      "Recall {1: 0.1444, 5: 0.35265, 10: 0.47423000000000004}\n",
      "Applying CCA\n",
      "CCA done\n",
      "Transforming\n",
      "Results for latent dims: 200  and test sample: 10000  and im2recipe\n",
      "Mean median 8.0\n",
      "Recall {1: 0.19327, 5: 0.43278999999999995, 10: 0.55318}\n",
      "Applying CCA\n",
      "CCA done\n",
      "Transforming\n",
      "Results for latent dims: 500  and test sample: 10000  and im2recipe\n",
      "Mean median 5.0\n",
      "Recall {1: 0.26249, 5: 0.51589, 10: 0.62415}\n",
      "Applying CCA\n",
      "CCA done\n",
      "Transforming\n",
      "Results for latent dims: 1000  and test sample: 10000  and im2recipe\n",
      "Mean median 4.85\n",
      "Recall {1: 0.28468, 5: 0.5311099999999999, 10: 0.6246}\n"
     ]
    }
   ],
   "source": [
    "# For 10k samples\n",
    "for dim in [2, 10, 25, 50, 100, 200, 500, 1000]:\n",
    "    determine_latent_dims(dim, 10000)"
   ]
  },
  {
   "cell_type": "markdown",
   "metadata": {
    "id": "4e9b4352-7e5b-4983-a933-a2d78daa2ae7"
   },
   "source": [
    "### Ablation Studies with fixed dim = 500"
   ]
  },
  {
   "cell_type": "markdown",
   "metadata": {
    "id": "2606fc14-019e-40da-8e96-bb575671d842"
   },
   "source": [
    "##### For sample size = 1000, latent_dims = 500"
   ]
  },
  {
   "cell_type": "code",
   "execution_count": null,
   "metadata": {},
   "outputs": [],
   "source": [
    "cca = CCA(latent_dims = 500, random_state = 0)"
   ]
  },
  {
   "cell_type": "code",
   "execution_count": null,
   "metadata": {
    "id": "500e5d2d-1753-4171-b0bd-7983f0901ef2",
    "outputId": "f1648f99-5146-4156-b331-e6f30228b3b3"
   },
   "outputs": [
    {
     "name": "stdout",
     "output_type": "stream",
     "text": [
      "Applying CCA\n",
      "CCA done\n",
      "Transforming\n",
      "Results for im2recipe: latent dims = 500, all the recipe fields\n",
      "Mean median 1.0\n",
      "Recall {1: 0.5516, 5: 0.7968000000000001, 10: 0.85}\n",
      "Applying CCA\n",
      "CCA done\n",
      "Results for im2instructions: latent dims = 500, only instructions\n",
      "Mean median 2.8\n",
      "Recall {1: 0.3527, 5: 0.6108, 10: 0.6873}\n",
      "Applying CCA\n",
      "CCA done\n",
      "Results for im2ingredients: latent dims = 500, only ingredients\n",
      "Mean median 3.0\n",
      "Recall {1: 0.35550000000000004, 5: 0.6089, 10: 0.6807000000000001}\n",
      "Applying CCA\n",
      "CCA done\n",
      "Results for im2title: latent dims = 500, only title\n",
      "Mean median 9.6\n",
      "Recall {1: 0.22159999999999996, 5: 0.4396, 10: 0.5117}\n"
     ]
    }
   ],
   "source": [
    "# im2recipe\n",
    "print(\"Applying CCA\")\n",
    "cca.fit((img_train, text_train))\n",
    "print(\"CCA done\")\n",
    "print(\"Transforming\")\n",
    "img_train_r, text_train_r = cca.transform((img_train, text_train))\n",
    "img_test_r, text_test_r = cca.transform((img_test, text_test))\n",
    "print(\"Results for im2recipe: latent dims = 500, all the recipe fields\")\n",
    "ranker(img_test_r, text_test_r,  1000, \"image\")\n",
    "\n",
    "# im2instructions\n",
    "print(\"Applying CCA\")\n",
    "cca.fit((img_train, instructions_train))\n",
    "print(\"CCA done\")\n",
    "img_test_r, instructions_test_r = cca.transform((img_test, instructions_test))\n",
    "print(\"Results for im2instructions: latent dims = 500, only instructions\")\n",
    "ranker(img_test_r, instructions_test_r, 1000, \"image\")\n",
    "\n",
    "# im2ingredients\n",
    "print(\"Applying CCA\")\n",
    "cca.fit((img_train, ingredients_train))\n",
    "print(\"CCA done\")\n",
    "img_test_r, ingredients_test_r = cca.transform((img_test, ingredients_test))\n",
    "print(\"Results for im2ingredients: latent dims = 500, only ingredients\")\n",
    "ranker(img_test_r, ingredients_test_r,  1000, \"image\")\n",
    "\n",
    "# im2title\n",
    "print(\"Applying CCA\")\n",
    "cca.fit((img_train, title_train))\n",
    "print(\"CCA done\")\n",
    "img_test_r, title_test_r = cca.transform((img_test, title_test))\n",
    "print(\"Results for im2title: latent dims = 500, only title\")\n",
    "ranker(img_test_r, title_test_r,  1000, \"image\")"
   ]
  },
  {
   "cell_type": "markdown",
   "metadata": {
    "id": "c9804e73-7c90-4b09-a40e-1a83cdf7e514"
   },
   "source": [
    "##### For sample size = 10000, latent_dims = 500"
   ]
  },
  {
   "cell_type": "code",
   "execution_count": null,
   "metadata": {},
   "outputs": [],
   "source": [
    "cca = CCA(latent_dims = 500, random_state = 0)"
   ]
  },
  {
   "cell_type": "code",
   "execution_count": 6,
   "metadata": {
    "id": "a624439e-3a76-4c57-a1cf-c36d2266cdad",
    "outputId": "85170c18-e13c-41db-df78-d2d263289f94"
   },
   "outputs": [
    {
     "name": "stdout",
     "output_type": "stream",
     "text": [
      "Applying CCA\n",
      "CCA done\n",
      "Transforming\n",
      "Results for im2recipe: latent dims = 500, all the recipe fields\n",
      "Mean median 5.0\n",
      "Recall {1: 0.26223, 5: 0.51435, 10: 0.62035}\n",
      "Applying CCA\n",
      "CCA done\n",
      "Results for im2instructions: latent dims = 500, only instructions\n",
      "Mean median 19.4\n",
      "Recall {1: 0.1299, 5: 0.31060999999999994, 10: 0.40711}\n",
      "Applying CCA\n",
      "CCA done\n",
      "Results for im2ingredients: latent dims = 500, only ingredients\n",
      "Mean median 19.3\n",
      "Recall {1: 0.13674, 5: 0.31982000000000005, 10: 0.4159400000000001}\n",
      "Applying CCA\n",
      "CCA done\n",
      "Results for im2title: latent dims = 500, only title\n",
      "Mean median 86.55\n",
      "Recall {1: 0.060280000000000014, 5: 0.17925000000000002, 10: 0.25656999999999996}\n"
     ]
    }
   ],
   "source": [
    "# im2recipe\n",
    "print(\"Applying CCA\")\n",
    "cca.fit((img_train, text_train))\n",
    "print(\"CCA done\")\n",
    "print(\"Transforming\")\n",
    "img_train_r, text_train_r = cca.transform((img_train, text_train))\n",
    "img_test_r, text_test_r = cca.transform((img_test, text_test))\n",
    "print(\"Results for im2recipe: latent dims = 500, all the recipe fields\")\n",
    "ranker(img_test_r, text_test_r,  10000, \"image\")\n",
    "\n",
    "# im2instructions\n",
    "print(\"Applying CCA\")\n",
    "cca.fit((img_train, instructions_train))\n",
    "print(\"CCA done\")\n",
    "img_test_r, instructions_test_r = cca.transform((img_test, instructions_test))\n",
    "print(\"Results for im2instructions: latent dims = 500, only instructions\")\n",
    "ranker(img_test_r, instructions_test_r, 10000, \"image\")\n",
    "\n",
    "# im2ingredients\n",
    "print(\"Applying CCA\")\n",
    "cca.fit((img_train, ingredients_train))\n",
    "print(\"CCA done\")\n",
    "img_test_r, ingredients_test_r = cca.transform((img_test, ingredients_test))\n",
    "print(\"Results for im2ingredients: latent dims = 500, only ingredients\")\n",
    "ranker(img_test_r, ingredients_test_r,  10000, \"image\")\n",
    "\n",
    "# im2title\n",
    "cca = CCA(latent_dims = 500, random_state = 0)\n",
    "cca.fit((img_train, title_train))\n",
    "print(\"CCA done\")\n",
    "img_test_r, title_test_r = cca.transform((img_test, title_test))\n",
    "print(\"Results for im2title: latent dims = 500, only title\")\n",
    "ranker(img_test_r, title_test_r,  10000, \"image\")"
   ]
  },
  {
   "cell_type": "markdown",
   "metadata": {
    "id": "dbccae98-d1ef-4f5f-9668-04c101da262e"
   },
   "source": [
    "## Image retrieval (recipe2im)"
   ]
  },
  {
   "cell_type": "markdown",
   "metadata": {
    "id": "927d6eaf-f99d-4111-b06b-b531501ada61"
   },
   "source": [
    "### Dimemsional Analysis with val data"
   ]
  },
  {
   "cell_type": "code",
   "execution_count": 8,
   "metadata": {
    "id": "8996b277-2a91-4810-9335-d430458d9567"
   },
   "outputs": [],
   "source": [
    "\"\"\"Function that outputs retrieval ranks for samples from validation data in order to determine optimal representation dimension size\"\"\"\n",
    "def determine_latent_dims_recipe2im(dims, size, flag = \"text\"):\n",
    "\n",
    "    print(\"Applying CCA\")\n",
    "    cca = CCA(latent_dims = dims, random_state = 0)\n",
    "    cca.fit((text_train, img_train))\n",
    "    print(\"CCA done\")\n",
    "    \n",
    "    print(\"Transforming\")\n",
    "    text_train_r, img_train_r = cca.transform((img_train, text_train))\n",
    "    text_val_r, img_val_r = cca.transform((text_val, img_val))\n",
    "\n",
    "    print(\"Results for latent dims:\", str(dims), \" and test sample:\", str(size), \" and im2recipe\")\n",
    "    ranker(img_val_r, text_val_r, size, flag)"
   ]
  },
  {
   "cell_type": "markdown",
   "metadata": {
    "id": "1cc8ca56-6956-47ff-9ee5-7012a23b6311"
   },
   "source": [
    "##### For 1k samples"
   ]
  },
  {
   "cell_type": "code",
   "execution_count": null,
   "metadata": {
    "id": "475f04a5-7b37-4bb0-ad02-a6ba5771bdce",
    "outputId": "a7b63b5f-0481-447d-a120-00bc044b0be2"
   },
   "outputs": [
    {
     "name": "stdout",
     "output_type": "stream",
     "text": [
      "Applying CCA\n",
      "CCA done\n",
      "Transforming\n",
      "Results for latent dims: 2  and test sample: 1000  and im2recipe\n",
      "Mean median 206.7\n",
      "Recall {1: 0.0035000000000000005, 5: 0.016900000000000005, 10: 0.032900000000000006}\n",
      "Applying CCA\n",
      "CCA done\n",
      "Transforming\n",
      "Results for latent dims: 10  and test sample: 1000  and im2recipe\n",
      "Mean median 22.45\n",
      "Recall {1: 0.0506, 5: 0.1991, 10: 0.3191}\n",
      "Applying CCA\n",
      "CCA done\n",
      "Transforming\n",
      "Results for latent dims: 25  and test sample: 1000  and im2recipe\n",
      "Mean median 5.0\n",
      "Recall {1: 0.22290000000000001, 5: 0.5223000000000001, 10: 0.6703000000000001}\n",
      "Applying CCA\n",
      "CCA done\n",
      "Transforming\n",
      "Results for latent dims: 50  and test sample: 1000  and im2recipe\n",
      "Mean median 2.6\n",
      "Recall {1: 0.35409999999999997, 5: 0.6824, 10: 0.8046000000000001}\n",
      "Applying CCA\n",
      "CCA done\n",
      "Transforming\n",
      "Results for latent dims: 100  and test sample: 1000  and im2recipe\n",
      "Mean median 2.0\n",
      "Recall {1: 0.4122, 5: 0.7384999999999998, 10: 0.8432000000000001}\n",
      "Applying CCA\n",
      "CCA done\n",
      "Transforming\n",
      "Results for latent dims: 200  and test sample: 1000  and im2recipe\n",
      "Mean median 1.9\n",
      "Recall {1: 0.47380000000000005, 5: 0.7702000000000001, 10: 0.8508999999999999}\n",
      "Applying CCA\n",
      "CCA done\n",
      "Transforming\n",
      "Results for latent dims: 500  and test sample: 1000  and im2recipe\n",
      "Mean median 1.0\n",
      "Recall {1: 0.5563, 5: 0.7981, 10: 0.8514999999999999}\n",
      "Applying CCA\n",
      "CCA done\n",
      "Transforming\n",
      "Results for latent dims: 1000  and test sample: 1000  and im2recipe\n",
      "Mean median 1.0\n",
      "Recall {1: 0.5508, 5: 0.7712000000000001, 10: 0.8161999999999999}\n"
     ]
    }
   ],
   "source": [
    "# For 1k samples\n",
    "for dim in [2, 10, 25, 50, 100, 200, 500, 1000]:\n",
    "    determine_latent_dims_recipe2im(dim, 1000, \"text\")"
   ]
  },
  {
   "cell_type": "markdown",
   "metadata": {
    "id": "c07e2117-8725-4dc4-9f9a-b874d21e853b"
   },
   "source": [
    "##### For 10k samples"
   ]
  },
  {
   "cell_type": "code",
   "execution_count": 9,
   "metadata": {
    "id": "08c7d68c-8305-44bb-ab0f-07434b2e58e8",
    "outputId": "0a63acc5-ece4-46ea-bcbb-f6101535d2ab"
   },
   "outputs": [
    {
     "name": "stdout",
     "output_type": "stream",
     "text": [
      "Applying CCA\n",
      "CCA done\n",
      "Transforming\n",
      "Results for latent dims: 2  and test sample: 10000  and im2recipe\n",
      "Mean median 2090.65\n",
      "Recall {1: 0.00028, 5: 0.0015699999999999998, 10: 0.0032300000000000002}\n",
      "Applying CCA\n",
      "CCA done\n",
      "Transforming\n",
      "Results for latent dims: 10  and test sample: 10000  and im2recipe\n",
      "Mean median 217.75\n",
      "Recall {1: 0.00683, 5: 0.031740000000000004, 10: 0.05775}\n",
      "Applying CCA\n",
      "CCA done\n",
      "Transforming\n",
      "Results for latent dims: 25  and test sample: 10000  and im2recipe\n",
      "Mean median 39.9\n",
      "Recall {1: 0.0474, 5: 0.16423, 10: 0.25244}\n",
      "Applying CCA\n",
      "CCA done\n",
      "Transforming\n",
      "Results for latent dims: 50  and test sample: 10000  and im2recipe\n",
      "Mean median 16.75\n",
      "Recall {1: 0.10979999999999998, 5: 0.29761999999999994, 10: 0.41186}\n",
      "Applying CCA\n",
      "CCA done\n",
      "Transforming\n",
      "Results for latent dims: 100  and test sample: 10000  and im2recipe\n",
      "Mean median 11.6\n",
      "Recall {1: 0.1482, 5: 0.3598800000000001, 10: 0.47989999999999994}\n",
      "Applying CCA\n",
      "CCA done\n",
      "Transforming\n",
      "Results for latent dims: 200  and test sample: 10000  and im2recipe\n",
      "Mean median 8.0\n",
      "Recall {1: 0.20453000000000002, 5: 0.43960999999999995, 10: 0.55464}\n",
      "Applying CCA\n",
      "CCA done\n",
      "Transforming\n",
      "Results for latent dims: 500  and test sample: 10000  and im2recipe\n",
      "Mean median 5.0\n",
      "Recall {1: 0.27488, 5: 0.52127, 10: 0.62348}\n",
      "Applying CCA\n",
      "CCA done\n",
      "Transforming\n",
      "Results for latent dims: 1000  and test sample: 10000  and im2recipe\n",
      "Mean median 4.1\n",
      "Recall {1: 0.29775, 5: 0.53789, 10: 0.6300399999999999}\n"
     ]
    }
   ],
   "source": [
    "# For 10k samples\n",
    "for dim in [2, 10, 25, 50, 100, 200, 500, 1000]:\n",
    "    determine_latent_dims_recipe2im(dim, 10000, \"text\")"
   ]
  },
  {
   "cell_type": "markdown",
   "metadata": {
    "id": "ff253dc1-1f1c-4669-ba8f-ffec14253e51"
   },
   "source": [
    "### Ablation Studies with fixed dims = 500"
   ]
  },
  {
   "cell_type": "markdown",
   "metadata": {
    "id": "2a1658c8-da88-427c-9736-5ccf1db5a2cc"
   },
   "source": [
    "##### For sample size = 1000, latent_dims = 500"
   ]
  },
  {
   "cell_type": "code",
   "execution_count": null,
   "metadata": {},
   "outputs": [],
   "source": [
    "cca = CCA(latent_dims = 500, random_state = 0)"
   ]
  },
  {
   "cell_type": "code",
   "execution_count": null,
   "metadata": {
    "id": "dd2b792b-cad8-4141-ab3f-9830282e11d5",
    "outputId": "0a348a9b-8dd1-41d7-d1e0-bf0d4443b836"
   },
   "outputs": [
    {
     "name": "stdout",
     "output_type": "stream",
     "text": [
      "Applying CCA\n",
      "CCA done\n",
      "Transforming\n",
      "Results for recipe2im: latent dims = 500, all the recipe fields\n",
      "Mean median 1.0\n",
      "Recall {1: 0.5437000000000001, 5: 0.7927000000000001, 10: 0.8454}\n",
      "Applying CCA\n",
      "CCA done\n",
      "Results for instructions2im: latent dims = 500, only instructions\n",
      "Mean median 2.9\n",
      "Recall {1: 0.36050000000000004, 5: 0.6161, 10: 0.6944}\n",
      "Applying CCA\n",
      "CCA done\n",
      "Results for ingredients2im: latent dims = 500, only ingredients\n",
      "Mean median 2.8\n",
      "Recall {1: 0.371, 5: 0.6043999999999999, 10: 0.6749}\n",
      "Applying CCA\n",
      "CCA done\n",
      "Results for title2im: latent dims = 500, only title\n",
      "Mean median 9.8\n",
      "Recall {1: 0.21880000000000002, 5: 0.43279999999999996, 10: 0.5057}\n"
     ]
    }
   ],
   "source": [
    "# recipe2im\n",
    "print(\"Applying CCA\")\n",
    "cca.fit((text_train, img_train))\n",
    "print(\"CCA done\")\n",
    "print(\"Transforming\")\n",
    "text_train_r, img_train_r = cca.transform((text_train, img_train))\n",
    "text_test_r, img_test_r = cca.transform((text_test, img_test))\n",
    "print(\"Results for recipe2im: latent dims = 500, all the recipe fields\")\n",
    "ranker(img_test_r, text_test_r,  1000, \"text\")\n",
    "\n",
    "# instructions2im\n",
    "print(\"Applying CCA\")\n",
    "cca.fit((instructions_train, img_train))\n",
    "print(\"CCA done\")\n",
    "instructions_test_r, img_test_r = cca.transform((instructions_test, img_test))\n",
    "print(\"Results for instructions2im: latent dims = 500, only instructions\")\n",
    "ranker(img_test_r, instructions_test_r, 1000, \"text\")\n",
    "\n",
    "# ingredients2im\n",
    "print(\"Applying CCA\")\n",
    "cca.fit((ingredients_train, img_train))\n",
    "print(\"CCA done\")\n",
    "ingredients_test_r, img_test_r = cca.transform((ingredients_test, img_test))\n",
    "print(\"Results for ingredients2im: latent dims = 500, only ingredients\")\n",
    "ranker(img_test_r, ingredients_test_r,  1000, \"text\")\n",
    "\n",
    "# title2im\n",
    "print(\"Applying CCA\")\n",
    "cca.fit((title_train, img_train))\n",
    "print(\"CCA done\")\n",
    "title_test_r, img_test_r  = cca.transform((title_test, img_test))\n",
    "print(\"Results for title2im: latent dims = 500, only title\")\n",
    "ranker(img_test_r, title_test_r,  1000, \"text\")"
   ]
  },
  {
   "cell_type": "markdown",
   "metadata": {
    "id": "87eb3196-262a-4e57-b2fa-80c2cd02cd19"
   },
   "source": [
    "##### For sample size = 10000, latent_dims = 500"
   ]
  },
  {
   "cell_type": "code",
   "execution_count": null,
   "metadata": {},
   "outputs": [],
   "source": [
    "cca = CCA(latent_dims = 500, random_state = 0)"
   ]
  },
  {
   "cell_type": "code",
   "execution_count": 10,
   "metadata": {
    "id": "b74bcda2-8dcd-4b72-b66e-7c26e6ff6ec2",
    "outputId": "8efa0d2b-7ddb-4210-a17a-af44375c9119"
   },
   "outputs": [
    {
     "name": "stdout",
     "output_type": "stream",
     "text": [
      "Applying CCA\n",
      "CCA done\n",
      "Transforming\n",
      "Results for recipe2im: latent dims = 500, all the recipe fields\n",
      "Mean median 5.0\n",
      "Recall {1: 0.27521000000000007, 5: 0.51742, 10: 0.62133}\n",
      "Applying CCA\n",
      "CCA done\n",
      "Results for instructions2im: latent dims = 500, only instructions\n",
      "Mean median 18.6\n",
      "Recall {1: 0.13687999999999997, 5: 0.31769000000000003, 10: 0.41434}\n",
      "Applying CCA\n",
      "CCA done\n",
      "Results for ingredients2im: latent dims = 500, only ingredients\n",
      "Mean median 18.25\n",
      "Recall {1: 0.14966000000000002, 5: 0.33231, 10: 0.42429000000000006}\n",
      "Applying CCA\n",
      "CCA done\n",
      "Results for title2im: latent dims = 500, only title\n",
      "Mean median 88.9\n",
      "Recall {1: 0.0618, 5: 0.17691, 10: 0.25399}\n"
     ]
    }
   ],
   "source": [
    "# recipe2im\n",
    "print(\"Applying CCA\")\n",
    "cca.fit((text_train, img_train))\n",
    "print(\"CCA done\")\n",
    "print(\"Transforming\")\n",
    "text_train_r, img_train_r = cca.transform((text_train, img_train))\n",
    "text_test_r, img_test_r = cca.transform((text_test, img_test))\n",
    "print(\"Results for recipe2im: latent dims = 500, all the recipe fields\")\n",
    "ranker(img_test_r, text_test_r,  10000, \"text\")\n",
    "\n",
    "# instructions2im\n",
    "print(\"Applying CCA\")\n",
    "cca.fit((instructions_train, img_train))\n",
    "print(\"CCA done\")\n",
    "instructions_test_r, img_test_r = cca.transform((instructions_test, img_test))\n",
    "print(\"Results for instructions2im: latent dims = 500, only instructions\")\n",
    "ranker(img_test_r, instructions_test_r, 10000, \"text\")\n",
    "\n",
    "# ingredients2im\n",
    "print(\"Applying CCA\")\n",
    "cca.fit((ingredients_train, img_train))\n",
    "print(\"CCA done\")\n",
    "ingredients_test_r, img_test_r = cca.transform((ingredients_test, img_test))\n",
    "print(\"Results for ingredients2im: latent dims = 500, only ingredients\")\n",
    "ranker(img_test_r, ingredients_test_r,  10000, \"text\")\n",
    "\n",
    "# title2im\n",
    "print(\"Applying CCA\")\n",
    "cca.fit((title_train, img_train))\n",
    "print(\"CCA done\")\n",
    "title_test_r, img_test_r  = cca.transform((title_test, img_test))\n",
    "print(\"Results for title2im: latent dims = 500, only title\")\n",
    "ranker(img_test_r, title_test_r,  10000, \"text\")"
   ]
  }
 ],
 "metadata": {
  "kernelspec": {
   "display_name": "Python 3",
   "language": "python",
   "name": "python3"
  },
  "language_info": {
   "codemirror_mode": {
    "name": "ipython",
    "version": 3
   },
   "file_extension": ".py",
   "mimetype": "text/x-python",
   "name": "python",
   "nbconvert_exporter": "python",
   "pygments_lexer": "ipython3",
   "version": "3.8.5"
  }
 },
 "nbformat": 4,
 "nbformat_minor": 4
}
